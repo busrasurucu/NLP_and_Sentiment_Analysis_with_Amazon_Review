{
 "cells": [
  {
   "cell_type": "markdown",
   "id": "aab5059e",
   "metadata": {
    "_cell_guid": "b1076dfc-b9ad-4769-8c92-a6c4dae69d19",
    "_uuid": "8f2839f25d086af736a60e9eeb907d3b93b6e0e5",
    "papermill": {
     "duration": 0.007732,
     "end_time": "2024-09-23T21:02:31.046728",
     "exception": false,
     "start_time": "2024-09-23T21:02:31.038996",
     "status": "completed"
    },
    "tags": []
   },
   "source": [
    "<div class=\"alert alert-primary\" style=\"margin-top: 20px; padding: 20px; border-radius: 10px;background-color:  #F99B0C ; color: softblue;\">\n",
    "\n",
    "<h1><center>Amazon Review NLP</center></h1>\n",
    "    \n",
    "</div>"
   ]
  },
  {
   "cell_type": "markdown",
   "id": "5a333f16",
   "metadata": {
    "papermill": {
     "duration": 0.006801,
     "end_time": "2024-09-23T21:02:31.060756",
     "exception": false,
     "start_time": "2024-09-23T21:02:31.053955",
     "status": "completed"
    },
    "tags": []
   },
   "source": [
    "# Importing"
   ]
  },
  {
   "cell_type": "code",
   "execution_count": 1,
   "id": "ed6f114c",
   "metadata": {
    "execution": {
     "iopub.execute_input": "2024-09-23T21:02:31.076852Z",
     "iopub.status.busy": "2024-09-23T21:02:31.076407Z",
     "iopub.status.idle": "2024-09-23T21:02:34.248193Z",
     "shell.execute_reply": "2024-09-23T21:02:34.246901Z"
    },
    "papermill": {
     "duration": 3.184939,
     "end_time": "2024-09-23T21:02:34.252851",
     "exception": false,
     "start_time": "2024-09-23T21:02:31.067912",
     "status": "completed"
    },
    "tags": []
   },
   "outputs": [
    {
     "name": "stderr",
     "output_type": "stream",
     "text": [
      "/opt/conda/lib/python3.10/site-packages/nltk/twitter/__init__.py:20: UserWarning: The twython library has not been installed. Some functionality from the twitter package will not be available.\n",
      "  warnings.warn(\"The twython library has not been installed. \"\n"
     ]
    }
   ],
   "source": [
    "from IPython.core.interactiveshell import InteractiveShell\n",
    "InteractiveShell.ast_node_interactivity = \"all\"\n",
    "\n",
    "import pandas as pd\n",
    "import matplotlib.pyplot as plt\n",
    "from warnings import filterwarnings\n",
    "from nltk.corpus import stopwords\n",
    "from textblob import Word, TextBlob\n",
    "from wordcloud import WordCloud\n",
    "from nltk.sentiment import SentimentIntensityAnalyzer\n",
    "from sklearn.preprocessing import LabelEncoder\n",
    "from sklearn.model_selection import train_test_split\n",
    "from sklearn.feature_extraction.text import TfidfVectorizer\n",
    "from sklearn.linear_model import LogisticRegression\n",
    "from sklearn.metrics import classification_report\n",
    "from sklearn.model_selection import cross_val_score\n",
    "from sklearn.feature_extraction.text import CountVectorizer\n",
    "from sklearn.ensemble import RandomForestClassifier\n",
    "\n",
    "\n",
    "\n",
    "filterwarnings('ignore')\n",
    "pd.set_option('display.max_columns', None)\n",
    "pd.set_option('display.width', 200)\n",
    "pd.set_option('display.float_format', lambda x: '%.2f' % x)"
   ]
  },
  {
   "cell_type": "code",
   "execution_count": 2,
   "id": "b3bddf36",
   "metadata": {
    "execution": {
     "iopub.execute_input": "2024-09-23T21:02:34.270442Z",
     "iopub.status.busy": "2024-09-23T21:02:34.269830Z",
     "iopub.status.idle": "2024-09-23T21:03:18.953745Z",
     "shell.execute_reply": "2024-09-23T21:03:18.952314Z"
    },
    "papermill": {
     "duration": 44.695558,
     "end_time": "2024-09-23T21:03:18.956458",
     "exception": false,
     "start_time": "2024-09-23T21:02:34.260900",
     "status": "completed"
    },
    "tags": []
   },
   "outputs": [
    {
     "name": "stdout",
     "output_type": "stream",
     "text": [
      "Requirement already satisfied: textblob in /opt/conda/lib/python3.10/site-packages (0.18.0.post0)\r\n",
      "Collecting nltk>=3.8 (from textblob)\r\n",
      "  Downloading nltk-3.9.1-py3-none-any.whl.metadata (2.9 kB)\r\n",
      "Requirement already satisfied: click in /opt/conda/lib/python3.10/site-packages (from nltk>=3.8->textblob) (8.1.7)\r\n",
      "Requirement already satisfied: joblib in /opt/conda/lib/python3.10/site-packages (from nltk>=3.8->textblob) (1.4.2)\r\n",
      "Requirement already satisfied: regex>=2021.8.3 in /opt/conda/lib/python3.10/site-packages (from nltk>=3.8->textblob) (2024.5.15)\r\n",
      "Requirement already satisfied: tqdm in /opt/conda/lib/python3.10/site-packages (from nltk>=3.8->textblob) (4.66.4)\r\n",
      "Downloading nltk-3.9.1-py3-none-any.whl (1.5 MB)\r\n",
      "\u001b[2K   \u001b[90m━━━━━━━━━━━━━━━━━━━━━━━━━━━━━━━━━━━━━━━━\u001b[0m \u001b[32m1.5/1.5 MB\u001b[0m \u001b[31m27.6 MB/s\u001b[0m eta \u001b[36m0:00:00\u001b[0m\r\n",
      "\u001b[?25hInstalling collected packages: nltk\r\n",
      "  Attempting uninstall: nltk\r\n",
      "    Found existing installation: nltk 3.2.4\r\n",
      "    Uninstalling nltk-3.2.4:\r\n",
      "      Successfully uninstalled nltk-3.2.4\r\n",
      "\u001b[31mERROR: pip's dependency resolver does not currently take into account all the packages that are installed. This behaviour is the source of the following dependency conflicts.\r\n",
      "preprocessing 0.1.13 requires nltk==3.2.4, but you have nltk 3.9.1 which is incompatible.\u001b[0m\u001b[31m\r\n",
      "\u001b[0mSuccessfully installed nltk-3.9.1\r\n",
      "Requirement already satisfied: nltk in /opt/conda/lib/python3.10/site-packages (3.9.1)\r\n",
      "Requirement already satisfied: click in /opt/conda/lib/python3.10/site-packages (from nltk) (8.1.7)\r\n",
      "Requirement already satisfied: joblib in /opt/conda/lib/python3.10/site-packages (from nltk) (1.4.2)\r\n",
      "Requirement already satisfied: regex>=2021.8.3 in /opt/conda/lib/python3.10/site-packages (from nltk) (2024.5.15)\r\n",
      "Requirement already satisfied: tqdm in /opt/conda/lib/python3.10/site-packages (from nltk) (4.66.4)\r\n",
      "Collecting twython\r\n",
      "  Downloading twython-3.9.1-py3-none-any.whl.metadata (20 kB)\r\n",
      "Requirement already satisfied: requests>=2.1.0 in /opt/conda/lib/python3.10/site-packages (from twython) (2.32.3)\r\n",
      "Requirement already satisfied: requests-oauthlib>=0.4.0 in /opt/conda/lib/python3.10/site-packages (from twython) (2.0.0)\r\n",
      "Requirement already satisfied: charset-normalizer<4,>=2 in /opt/conda/lib/python3.10/site-packages (from requests>=2.1.0->twython) (3.3.2)\r\n",
      "Requirement already satisfied: idna<4,>=2.5 in /opt/conda/lib/python3.10/site-packages (from requests>=2.1.0->twython) (3.7)\r\n",
      "Requirement already satisfied: urllib3<3,>=1.21.1 in /opt/conda/lib/python3.10/site-packages (from requests>=2.1.0->twython) (1.26.18)\r\n",
      "Requirement already satisfied: certifi>=2017.4.17 in /opt/conda/lib/python3.10/site-packages (from requests>=2.1.0->twython) (2024.7.4)\r\n",
      "Requirement already satisfied: oauthlib>=3.0.0 in /opt/conda/lib/python3.10/site-packages (from requests-oauthlib>=0.4.0->twython) (3.2.2)\r\n",
      "Downloading twython-3.9.1-py3-none-any.whl (33 kB)\r\n",
      "Installing collected packages: twython\r\n",
      "Successfully installed twython-3.9.1\r\n",
      "Archive:  /usr/share/nltk_data/corpora/wordnet.zip\r\n",
      "   creating: /usr/share/nltk_data/corpora/wordnet/\r\n",
      "  inflating: /usr/share/nltk_data/corpora/wordnet/lexnames  \r\n",
      "  inflating: /usr/share/nltk_data/corpora/wordnet/data.verb  \r\n",
      "  inflating: /usr/share/nltk_data/corpora/wordnet/index.adv  \r\n",
      "  inflating: /usr/share/nltk_data/corpora/wordnet/adv.exc  \r\n",
      "  inflating: /usr/share/nltk_data/corpora/wordnet/index.verb  \r\n",
      "  inflating: /usr/share/nltk_data/corpora/wordnet/cntlist.rev  \r\n",
      "  inflating: /usr/share/nltk_data/corpora/wordnet/data.adj  \r\n",
      "  inflating: /usr/share/nltk_data/corpora/wordnet/index.adj  \r\n",
      "  inflating: /usr/share/nltk_data/corpora/wordnet/LICENSE  \r\n",
      "  inflating: /usr/share/nltk_data/corpora/wordnet/citation.bib  \r\n",
      "  inflating: /usr/share/nltk_data/corpora/wordnet/noun.exc  \r\n",
      "  inflating: /usr/share/nltk_data/corpora/wordnet/verb.exc  \r\n",
      "  inflating: /usr/share/nltk_data/corpora/wordnet/README  \r\n",
      "  inflating: /usr/share/nltk_data/corpora/wordnet/index.sense  \r\n",
      "  inflating: /usr/share/nltk_data/corpora/wordnet/data.noun  \r\n",
      "  inflating: /usr/share/nltk_data/corpora/wordnet/data.adv  \r\n",
      "  inflating: /usr/share/nltk_data/corpora/wordnet/index.noun  \r\n",
      "  inflating: /usr/share/nltk_data/corpora/wordnet/adj.exc  \r\n"
     ]
    }
   ],
   "source": [
    "!pip install textblob\n",
    "!pip install nltk\n",
    "!pip install twython\n",
    "!unzip /usr/share/nltk_data/corpora/wordnet.zip -d /usr/share/nltk_data/corpora/"
   ]
  },
  {
   "cell_type": "code",
   "execution_count": 3,
   "id": "efc91c68",
   "metadata": {
    "execution": {
     "iopub.execute_input": "2024-09-23T21:03:18.975902Z",
     "iopub.status.busy": "2024-09-23T21:03:18.975460Z",
     "iopub.status.idle": "2024-09-23T21:03:20.052144Z",
     "shell.execute_reply": "2024-09-23T21:03:20.050885Z"
    },
    "papermill": {
     "duration": 1.089614,
     "end_time": "2024-09-23T21:03:20.054796",
     "exception": false,
     "start_time": "2024-09-23T21:03:18.965182",
     "status": "completed"
    },
    "tags": []
   },
   "outputs": [
    {
     "data": {
      "text/html": [
       "<div>\n",
       "<style scoped>\n",
       "    .dataframe tbody tr th:only-of-type {\n",
       "        vertical-align: middle;\n",
       "    }\n",
       "\n",
       "    .dataframe tbody tr th {\n",
       "        vertical-align: top;\n",
       "    }\n",
       "\n",
       "    .dataframe thead th {\n",
       "        text-align: right;\n",
       "    }\n",
       "</style>\n",
       "<table border=\"1\" class=\"dataframe\">\n",
       "  <thead>\n",
       "    <tr style=\"text-align: right;\">\n",
       "      <th></th>\n",
       "      <th>Star</th>\n",
       "      <th>HelpFul</th>\n",
       "      <th>Title</th>\n",
       "      <th>Review</th>\n",
       "    </tr>\n",
       "  </thead>\n",
       "  <tbody>\n",
       "    <tr>\n",
       "      <th>0</th>\n",
       "      <td>5</td>\n",
       "      <td>0</td>\n",
       "      <td>looks great</td>\n",
       "      <td>Happy with it</td>\n",
       "    </tr>\n",
       "    <tr>\n",
       "      <th>1</th>\n",
       "      <td>5</td>\n",
       "      <td>0</td>\n",
       "      <td>Pattern did not align between the two panels.</td>\n",
       "      <td>Good quality material however the panels are m...</td>\n",
       "    </tr>\n",
       "    <tr>\n",
       "      <th>2</th>\n",
       "      <td>5</td>\n",
       "      <td>0</td>\n",
       "      <td>Imagery is stretched. Still fun.</td>\n",
       "      <td>Product was fun for bedroom windows.&lt;br /&gt;Imag...</td>\n",
       "    </tr>\n",
       "    <tr>\n",
       "      <th>3</th>\n",
       "      <td>5</td>\n",
       "      <td>0</td>\n",
       "      <td>Que se ven elegantes muy finas</td>\n",
       "      <td>Lo unico que me gustaria es que sean un poco ...</td>\n",
       "    </tr>\n",
       "    <tr>\n",
       "      <th>4</th>\n",
       "      <td>5</td>\n",
       "      <td>0</td>\n",
       "      <td>Wow great purchase</td>\n",
       "      <td>Great bang for the buck I can't believe the qu...</td>\n",
       "    </tr>\n",
       "  </tbody>\n",
       "</table>\n",
       "</div>"
      ],
      "text/plain": [
       "   Star  HelpFul                                          Title                                             Review\n",
       "0     5        0                                    looks great                                      Happy with it\n",
       "1     5        0  Pattern did not align between the two panels.  Good quality material however the panels are m...\n",
       "2     5        0               Imagery is stretched. Still fun.  Product was fun for bedroom windows.<br />Imag...\n",
       "3     5        0                 Que se ven elegantes muy finas   Lo unico que me gustaria es que sean un poco ...\n",
       "4     5        0                             Wow great purchase  Great bang for the buck I can't believe the qu..."
      ]
     },
     "execution_count": 3,
     "metadata": {},
     "output_type": "execute_result"
    }
   ],
   "source": [
    "df = pd.read_excel(\"/kaggle/input/amazon/amazon.xlsx\")\n",
    "df.head()"
   ]
  },
  {
   "cell_type": "markdown",
   "id": "a31b0180",
   "metadata": {
    "papermill": {
     "duration": 0.00876,
     "end_time": "2024-09-23T21:03:20.072801",
     "exception": false,
     "start_time": "2024-09-23T21:03:20.064041",
     "status": "completed"
    },
    "tags": []
   },
   "source": [
    "# Normalizing Case Folding"
   ]
  },
  {
   "cell_type": "code",
   "execution_count": 4,
   "id": "8966e50c",
   "metadata": {
    "execution": {
     "iopub.execute_input": "2024-09-23T21:03:20.092536Z",
     "iopub.status.busy": "2024-09-23T21:03:20.091978Z",
     "iopub.status.idle": "2024-09-23T21:03:20.107107Z",
     "shell.execute_reply": "2024-09-23T21:03:20.105879Z"
    },
    "papermill": {
     "duration": 0.028127,
     "end_time": "2024-09-23T21:03:20.109805",
     "exception": false,
     "start_time": "2024-09-23T21:03:20.081678",
     "status": "completed"
    },
    "tags": []
   },
   "outputs": [
    {
     "data": {
      "text/plain": [
       "0                                        happy with it\n",
       "1    good quality material however the panels are m...\n",
       "2    product was fun for bedroom windows.<br />imag...\n",
       "3     lo unico que me gustaria es que sean un poco ...\n",
       "4    great bang for the buck i can't believe the qu...\n",
       "Name: Review, dtype: object"
      ]
     },
     "execution_count": 4,
     "metadata": {},
     "output_type": "execute_result"
    }
   ],
   "source": [
    "df[\"Review\"] = df[\"Review\"].str.lower()\n",
    "df[\"Review\"].head()"
   ]
  },
  {
   "cell_type": "markdown",
   "id": "82eb3e77",
   "metadata": {
    "papermill": {
     "duration": 0.008667,
     "end_time": "2024-09-23T21:03:20.127658",
     "exception": false,
     "start_time": "2024-09-23T21:03:20.118991",
     "status": "completed"
    },
    "tags": []
   },
   "source": [
    "# Punctuations"
   ]
  },
  {
   "cell_type": "code",
   "execution_count": 5,
   "id": "a0341c8f",
   "metadata": {
    "execution": {
     "iopub.execute_input": "2024-09-23T21:03:20.149011Z",
     "iopub.status.busy": "2024-09-23T21:03:20.148249Z",
     "iopub.status.idle": "2024-09-23T21:03:20.160565Z",
     "shell.execute_reply": "2024-09-23T21:03:20.159280Z"
    },
    "papermill": {
     "duration": 0.02541,
     "end_time": "2024-09-23T21:03:20.162846",
     "exception": false,
     "start_time": "2024-09-23T21:03:20.137436",
     "status": "completed"
    },
    "tags": []
   },
   "outputs": [
    {
     "data": {
      "text/plain": [
       "0                                        happy with it\n",
       "1    good quality material however the panels are m...\n",
       "2    product was fun for bedroom windows.<br />imag...\n",
       "3     lo unico que me gustaria es que sean un poco ...\n",
       "4    great bang for the buck i can't believe the qu...\n",
       "Name: Review, dtype: object"
      ]
     },
     "execution_count": 5,
     "metadata": {},
     "output_type": "execute_result"
    }
   ],
   "source": [
    "df[\"Review\"] = df[\"Review\"].str.replace('[^\\w\\s]', '')\n",
    "df[\"Review\"].head()"
   ]
  },
  {
   "cell_type": "markdown",
   "id": "5c766803",
   "metadata": {
    "papermill": {
     "duration": 0.0088,
     "end_time": "2024-09-23T21:03:20.180884",
     "exception": false,
     "start_time": "2024-09-23T21:03:20.172084",
     "status": "completed"
    },
    "tags": []
   },
   "source": [
    "# Numbers"
   ]
  },
  {
   "cell_type": "code",
   "execution_count": 6,
   "id": "fcf6c4a8",
   "metadata": {
    "execution": {
     "iopub.execute_input": "2024-09-23T21:03:20.201737Z",
     "iopub.status.busy": "2024-09-23T21:03:20.201281Z",
     "iopub.status.idle": "2024-09-23T21:03:20.213107Z",
     "shell.execute_reply": "2024-09-23T21:03:20.212059Z"
    },
    "papermill": {
     "duration": 0.025255,
     "end_time": "2024-09-23T21:03:20.215435",
     "exception": false,
     "start_time": "2024-09-23T21:03:20.190180",
     "status": "completed"
    },
    "tags": []
   },
   "outputs": [
    {
     "data": {
      "text/plain": [
       "0                                        happy with it\n",
       "1    good quality material however the panels are m...\n",
       "2    product was fun for bedroom windows.<br />imag...\n",
       "3     lo unico que me gustaria es que sean un poco ...\n",
       "4    great bang for the buck i can't believe the qu...\n",
       "Name: Review, dtype: object"
      ]
     },
     "execution_count": 6,
     "metadata": {},
     "output_type": "execute_result"
    }
   ],
   "source": [
    "df[\"Review\"] = df[\"Review\"].str.replace('\\d', '')\n",
    "df[\"Review\"].head()"
   ]
  },
  {
   "cell_type": "markdown",
   "id": "962e8048",
   "metadata": {
    "papermill": {
     "duration": 0.008857,
     "end_time": "2024-09-23T21:03:20.233817",
     "exception": false,
     "start_time": "2024-09-23T21:03:20.224960",
     "status": "completed"
    },
    "tags": []
   },
   "source": [
    "# Stopwords"
   ]
  },
  {
   "cell_type": "code",
   "execution_count": 7,
   "id": "ccfd08aa",
   "metadata": {
    "execution": {
     "iopub.execute_input": "2024-09-23T21:03:20.255545Z",
     "iopub.status.busy": "2024-09-23T21:03:20.254252Z",
     "iopub.status.idle": "2024-09-23T21:03:20.537930Z",
     "shell.execute_reply": "2024-09-23T21:03:20.536735Z"
    },
    "papermill": {
     "duration": 0.297529,
     "end_time": "2024-09-23T21:03:20.540503",
     "exception": false,
     "start_time": "2024-09-23T21:03:20.242974",
     "status": "completed"
    },
    "tags": []
   },
   "outputs": [
    {
     "data": {
      "text/plain": [
       "0                                                happy\n",
       "1    good quality material however panels mis-matched.\n",
       "2    product fun bedroom windows.<br />imagery bit ...\n",
       "3    lo unico que gustaria es que sean un poco mas ...\n",
       "4    great bang buck can't believe quality material...\n",
       "Name: Review, dtype: object"
      ]
     },
     "execution_count": 7,
     "metadata": {},
     "output_type": "execute_result"
    }
   ],
   "source": [
    "import nltk\n",
    "from nltk.corpus import stopwords\n",
    "#nltk.download('stopwords')\n",
    "sw = stopwords.words(\"english\")\n",
    "df[\"Review\"] = df[\"Review\"].apply(lambda x: \" \".join(x for x in str(x).split() if x not in sw))\n",
    "df[\"Review\"].head()"
   ]
  },
  {
   "cell_type": "markdown",
   "id": "836e9a7b",
   "metadata": {
    "papermill": {
     "duration": 0.009019,
     "end_time": "2024-09-23T21:03:20.559155",
     "exception": false,
     "start_time": "2024-09-23T21:03:20.550136",
     "status": "completed"
    },
    "tags": []
   },
   "source": [
    "# Rarewords"
   ]
  },
  {
   "cell_type": "code",
   "execution_count": 8,
   "id": "c37f0683",
   "metadata": {
    "execution": {
     "iopub.execute_input": "2024-09-23T21:03:20.579513Z",
     "iopub.status.busy": "2024-09-23T21:03:20.579048Z",
     "iopub.status.idle": "2024-09-23T21:03:20.809678Z",
     "shell.execute_reply": "2024-09-23T21:03:20.808506Z"
    },
    "papermill": {
     "duration": 0.243964,
     "end_time": "2024-09-23T21:03:20.812274",
     "exception": false,
     "start_time": "2024-09-23T21:03:20.568310",
     "status": "completed"
    },
    "tags": []
   },
   "outputs": [
    {
     "data": {
      "text/plain": [
       "0                                                 happy\n",
       "1     good quality material however panels mis-matched.\n",
       "2     product fun bedroom windows.<br />imagery bit ...\n",
       "3     lo unico que gustaria es que sean un poco mas ...\n",
       "4     great bang buck can't believe quality material...\n",
       "5                                 looks different photo\n",
       "6     exactly looking for. heavy material. great pri...\n",
       "7     looking picture, thought curtains would thinne...\n",
       "8     much whiter thought would wasn’t really expect...\n",
       "9     curtains picture shows. 3rd set ambesonne curt...\n",
       "10    blocks views living room front door kitchen/di...\n",
       "11                     private closed. darkening point.\n",
       "12                                    don’t block light\n",
       "13    work fine night curtains sheer daytime labeled...\n",
       "14                                                     \n",
       "15    love curtain!! printed polyester type material...\n",
       "16                             love hem one smaller one\n",
       "17    second time writing review amazon, always alwa...\n",
       "18                          love curtains even person!!\n",
       "19                               even beautiful person.\n",
       "Name: Review, dtype: object"
      ]
     },
     "execution_count": 8,
     "metadata": {},
     "output_type": "execute_result"
    }
   ],
   "source": [
    "temp_df = pd.Series(\" \".join(df[\"Review\"]).split()).value_counts()\n",
    "drop = pd.Series(\" \".join(df[\"Review\"]).split()).value_counts()[-1000:]\n",
    "df[\"Review\"] = df[\"Review\"].apply (lambda x: \" \".join(x for x in x.split() if x not in drop))\n",
    "df[\"Review\"].head(20)"
   ]
  },
  {
   "cell_type": "markdown",
   "id": "2ea3b41e",
   "metadata": {
    "papermill": {
     "duration": 0.009218,
     "end_time": "2024-09-23T21:03:20.831894",
     "exception": false,
     "start_time": "2024-09-23T21:03:20.822676",
     "status": "completed"
    },
    "tags": []
   },
   "source": [
    "# lemmatization"
   ]
  },
  {
   "cell_type": "code",
   "execution_count": 9,
   "id": "a7210b42",
   "metadata": {
    "execution": {
     "iopub.execute_input": "2024-09-23T21:03:20.852445Z",
     "iopub.status.busy": "2024-09-23T21:03:20.851991Z",
     "iopub.status.idle": "2024-09-23T21:03:23.278014Z",
     "shell.execute_reply": "2024-09-23T21:03:23.276680Z"
    },
    "papermill": {
     "duration": 2.439721,
     "end_time": "2024-09-23T21:03:23.280869",
     "exception": false,
     "start_time": "2024-09-23T21:03:20.841148",
     "status": "completed"
    },
    "tags": []
   },
   "outputs": [
    {
     "name": "stdout",
     "output_type": "stream",
     "text": [
      "[nltk_data] Downloading package punkt to /usr/share/nltk_data...\n",
      "[nltk_data]   Package punkt is already up-to-date!\n"
     ]
    },
    {
     "data": {
      "text/plain": [
       "True"
      ]
     },
     "execution_count": 9,
     "metadata": {},
     "output_type": "execute_result"
    },
    {
     "name": "stdout",
     "output_type": "stream",
     "text": [
      "[nltk_data] Downloading package wordnet to /usr/share/nltk_data...\n",
      "[nltk_data]   Package wordnet is already up-to-date!\n"
     ]
    },
    {
     "data": {
      "text/plain": [
       "True"
      ]
     },
     "execution_count": 9,
     "metadata": {},
     "output_type": "execute_result"
    }
   ],
   "source": [
    "nltk.download('punkt')\n",
    "nltk.download('wordnet')\n",
    "df['Review'] = df['Review'].apply(lambda x: \" \".join([Word(word).lemmatize() for word in x.split()]))"
   ]
  },
  {
   "cell_type": "markdown",
   "id": "01dc4ff3",
   "metadata": {
    "papermill": {
     "duration": 0.009458,
     "end_time": "2024-09-23T21:03:23.300835",
     "exception": false,
     "start_time": "2024-09-23T21:03:23.291377",
     "status": "completed"
    },
    "tags": []
   },
   "source": [
    "# Text Visualization"
   ]
  },
  {
   "cell_type": "code",
   "execution_count": 10,
   "id": "498f7860",
   "metadata": {
    "execution": {
     "iopub.execute_input": "2024-09-23T21:03:23.322287Z",
     "iopub.status.busy": "2024-09-23T21:03:23.321880Z",
     "iopub.status.idle": "2024-09-23T21:03:32.290908Z",
     "shell.execute_reply": "2024-09-23T21:03:32.289727Z"
    },
    "papermill": {
     "duration": 8.98297,
     "end_time": "2024-09-23T21:03:32.293520",
     "exception": false,
     "start_time": "2024-09-23T21:03:23.310550",
     "status": "completed"
    },
    "tags": []
   },
   "outputs": [
    {
     "data": {
      "image/png": "[encoded data removed]",
      "text/plain": [
       "<Figure size 640x480 with 1 Axes>"
      ]
     },
     "metadata": {},
     "output_type": "display_data"
    }
   ],
   "source": [
    "tf = df[\"Review\"].apply(lambda x:pd.value_counts(x.split(\" \"))).sum(axis=0).reset_index()\n",
    "tf.columns= [\"words\", \"tf\"]\n",
    "tf[tf[\"tf\"] > 500].plot.bar(x=\"words\", y=\"tf\")\n",
    "plt.show();"
   ]
  },
  {
   "cell_type": "code",
   "execution_count": 11,
   "id": "d698d9e9",
   "metadata": {
    "execution": {
     "iopub.execute_input": "2024-09-23T21:03:32.317025Z",
     "iopub.status.busy": "2024-09-23T21:03:32.316599Z",
     "iopub.status.idle": "2024-09-23T21:03:33.368207Z",
     "shell.execute_reply": "2024-09-23T21:03:33.366876Z"
    },
    "papermill": {
     "duration": 1.070195,
     "end_time": "2024-09-23T21:03:33.374628",
     "exception": false,
     "start_time": "2024-09-23T21:03:32.304433",
     "status": "completed"
    },
    "tags": []
   },
   "outputs": [
    {
     "data": {
      "image/png": "[encoded data removed]",
      "text/plain": [
       "<Figure size 640x480 with 1 Axes>"
      ]
     },
     "metadata": {},
     "output_type": "display_data"
    }
   ],
   "source": [
    "text = \" \".join(i for i in df.Review)\n",
    "wordcloud = WordCloud().generate(text)\n",
    "plt.imshow(wordcloud, interpolation=\"bilinear\")\n",
    "plt.axis(\"off\")\n",
    "plt.show();"
   ]
  },
  {
   "cell_type": "markdown",
   "id": "84260f40",
   "metadata": {
    "papermill": {
     "duration": 0.015806,
     "end_time": "2024-09-23T21:03:33.411808",
     "exception": false,
     "start_time": "2024-09-23T21:03:33.396002",
     "status": "completed"
    },
    "tags": []
   },
   "source": [
    "# Text Preprocessing"
   ]
  },
  {
   "cell_type": "code",
   "execution_count": 12,
   "id": "03431df0",
   "metadata": {
    "execution": {
     "iopub.execute_input": "2024-09-23T21:03:33.438434Z",
     "iopub.status.busy": "2024-09-23T21:03:33.438001Z",
     "iopub.status.idle": "2024-09-23T21:03:35.961772Z",
     "shell.execute_reply": "2024-09-23T21:03:35.960533Z"
    },
    "papermill": {
     "duration": 2.540154,
     "end_time": "2024-09-23T21:03:35.964262",
     "exception": false,
     "start_time": "2024-09-23T21:03:33.424108",
     "status": "completed"
    },
    "tags": []
   },
   "outputs": [
    {
     "name": "stdout",
     "output_type": "stream",
     "text": [
      "[nltk_data] Downloading package vader_lexicon to\n",
      "[nltk_data]     /usr/share/nltk_data...\n",
      "[nltk_data]   Package vader_lexicon is already up-to-date!\n"
     ]
    },
    {
     "data": {
      "text/plain": [
       "True"
      ]
     },
     "execution_count": 12,
     "metadata": {},
     "output_type": "execute_result"
    },
    {
     "data": {
      "text/plain": [
       "0    {'neg': 0.0, 'neu': 0.0, 'pos': 1.0, 'compound...\n",
       "1    {'neg': 0.0, 'neu': 0.633, 'pos': 0.367, 'comp...\n",
       "2    {'neg': 0.0, 'neu': 0.647, 'pos': 0.353, 'comp...\n",
       "3    {'neg': 0.0, 'neu': 1.0, 'pos': 0.0, 'compound...\n",
       "4    {'neg': 0.0, 'neu': 0.537, 'pos': 0.463, 'comp...\n",
       "5    {'neg': 0.0, 'neu': 1.0, 'pos': 0.0, 'compound...\n",
       "6    {'neg': 0.0, 'neu': 0.661, 'pos': 0.339, 'comp...\n",
       "7    {'neg': 0.0, 'neu': 0.556, 'pos': 0.444, 'comp...\n",
       "8    {'neg': 0.0, 'neu': 1.0, 'pos': 0.0, 'compound...\n",
       "9    {'neg': 0.0, 'neu': 0.772, 'pos': 0.228, 'comp...\n",
       "Name: Review, dtype: object"
      ]
     },
     "execution_count": 12,
     "metadata": {},
     "output_type": "execute_result"
    },
    {
     "data": {
      "text/plain": [
       "0   0.57\n",
       "1   0.44\n",
       "2   0.72\n",
       "3   0.00\n",
       "4   0.90\n",
       "5   0.00\n",
       "6   0.62\n",
       "7   0.93\n",
       "8   0.00\n",
       "9   0.71\n",
       "Name: Review, dtype: float64"
      ]
     },
     "execution_count": 12,
     "metadata": {},
     "output_type": "execute_result"
    },
    {
     "data": {
      "text/plain": [
       "0    pos\n",
       "1    pos\n",
       "2    pos\n",
       "3    neg\n",
       "4    pos\n",
       "5    neg\n",
       "6    pos\n",
       "7    pos\n",
       "8    neg\n",
       "9    pos\n",
       "Name: Review, dtype: object"
      ]
     },
     "execution_count": 12,
     "metadata": {},
     "output_type": "execute_result"
    },
    {
     "data": {
      "text/plain": [
       "sentiment_label\n",
       "pos    4793\n",
       "neg     818\n",
       "Name: count, dtype: int64"
      ]
     },
     "execution_count": 12,
     "metadata": {},
     "output_type": "execute_result"
    },
    {
     "data": {
      "text/plain": [
       "sentiment_label\n",
       "neg   3.45\n",
       "pos   4.57\n",
       "Name: Star, dtype: float64"
      ]
     },
     "execution_count": 12,
     "metadata": {},
     "output_type": "execute_result"
    }
   ],
   "source": [
    "nltk.download('vader_lexicon')\n",
    "\n",
    "sia = SentimentIntensityAnalyzer()\n",
    "df[\"Review\"][0:10].apply(lambda x: sia.polarity_scores(x))\n",
    "df[\"Review\"][0:10].apply(lambda x: sia.polarity_scores(x)[\"compound\"])\n",
    "df[\"polarity_score\"] = df[\"Review\"].apply(lambda x: sia.polarity_scores(x)[\"compound\"])\n",
    "df[\"Review\"][0:10].apply(lambda x: \"pos\" if sia.polarity_scores(x)[\"compound\"] > 0 else \"neg\")\n",
    "df[\"sentiment_label\"] = df[\"Review\"].apply(lambda x: \"pos\" if sia.polarity_scores(x)[\"compound\"] > 0 else \"neg\")\n",
    "df[\"sentiment_label\"].value_counts()\n",
    "df.groupby(\"sentiment_label\")[\"Star\"].mean()\n",
    "df[\"sentiment_label\"] = LabelEncoder().fit_transform(df[\"sentiment_label\"])\n"
   ]
  },
  {
   "cell_type": "code",
   "execution_count": 13,
   "id": "1e597734",
   "metadata": {
    "execution": {
     "iopub.execute_input": "2024-09-23T21:03:35.993314Z",
     "iopub.status.busy": "2024-09-23T21:03:35.992897Z",
     "iopub.status.idle": "2024-09-23T21:03:35.998265Z",
     "shell.execute_reply": "2024-09-23T21:03:35.997131Z"
    },
    "papermill": {
     "duration": 0.022572,
     "end_time": "2024-09-23T21:03:36.000571",
     "exception": false,
     "start_time": "2024-09-23T21:03:35.977999",
     "status": "completed"
    },
    "tags": []
   },
   "outputs": [],
   "source": [
    "y = df[\"sentiment_label\"]\n",
    "X = df[\"Review\"]"
   ]
  },
  {
   "cell_type": "markdown",
   "id": "1e8b2a6d",
   "metadata": {
    "papermill": {
     "duration": 0.013139,
     "end_time": "2024-09-23T21:03:36.027028",
     "exception": false,
     "start_time": "2024-09-23T21:03:36.013889",
     "status": "completed"
    },
    "tags": []
   },
   "source": [
    "# model"
   ]
  },
  {
   "cell_type": "code",
   "execution_count": 14,
   "id": "d9a53893",
   "metadata": {
    "execution": {
     "iopub.execute_input": "2024-09-23T21:03:36.055561Z",
     "iopub.status.busy": "2024-09-23T21:03:36.055127Z",
     "iopub.status.idle": "2024-09-23T21:03:36.065368Z",
     "shell.execute_reply": "2024-09-23T21:03:36.064210Z"
    },
    "papermill": {
     "duration": 0.027243,
     "end_time": "2024-09-23T21:03:36.067863",
     "exception": false,
     "start_time": "2024-09-23T21:03:36.040620",
     "status": "completed"
    },
    "tags": []
   },
   "outputs": [],
   "source": [
    "train_X, test_X, train_y, test_y = train_test_split(X,\n",
    "                                                    y,\n",
    "                                                    random_state=42)"
   ]
  },
  {
   "cell_type": "code",
   "execution_count": 15,
   "id": "a2993218",
   "metadata": {
    "execution": {
     "iopub.execute_input": "2024-09-23T21:03:36.096261Z",
     "iopub.status.busy": "2024-09-23T21:03:36.095825Z",
     "iopub.status.idle": "2024-09-23T21:03:36.260775Z",
     "shell.execute_reply": "2024-09-23T21:03:36.259551Z"
    },
    "papermill": {
     "duration": 0.182408,
     "end_time": "2024-09-23T21:03:36.263473",
     "exception": false,
     "start_time": "2024-09-23T21:03:36.081065",
     "status": "completed"
    },
    "tags": []
   },
   "outputs": [],
   "source": [
    "tf_idf_word_vectorizer = TfidfVectorizer().fit(train_X)\n",
    "X_train_tf_idf_word = tf_idf_word_vectorizer.transform(train_X)\n",
    "X_test_tf_idf_word = tf_idf_word_vectorizer.transform(test_X)"
   ]
  },
  {
   "cell_type": "code",
   "execution_count": 16,
   "id": "43a14cc5",
   "metadata": {
    "execution": {
     "iopub.execute_input": "2024-09-23T21:03:36.292578Z",
     "iopub.status.busy": "2024-09-23T21:03:36.292127Z",
     "iopub.status.idle": "2024-09-23T21:03:36.346763Z",
     "shell.execute_reply": "2024-09-23T21:03:36.345644Z"
    },
    "papermill": {
     "duration": 0.072479,
     "end_time": "2024-09-23T21:03:36.349619",
     "exception": false,
     "start_time": "2024-09-23T21:03:36.277140",
     "status": "completed"
    },
    "tags": []
   },
   "outputs": [],
   "source": [
    "log_model = LogisticRegression().fit(X_train_tf_idf_word, train_y)"
   ]
  },
  {
   "cell_type": "code",
   "execution_count": 17,
   "id": "309b8540",
   "metadata": {
    "execution": {
     "iopub.execute_input": "2024-09-23T21:03:36.378319Z",
     "iopub.status.busy": "2024-09-23T21:03:36.377922Z",
     "iopub.status.idle": "2024-09-23T21:03:36.383969Z",
     "shell.execute_reply": "2024-09-23T21:03:36.382684Z"
    },
    "papermill": {
     "duration": 0.023192,
     "end_time": "2024-09-23T21:03:36.386363",
     "exception": false,
     "start_time": "2024-09-23T21:03:36.363171",
     "status": "completed"
    },
    "tags": []
   },
   "outputs": [],
   "source": [
    "y_pred = log_model.predict(X_test_tf_idf_word)"
   ]
  },
  {
   "cell_type": "code",
   "execution_count": 18,
   "id": "166e4bd5",
   "metadata": {
    "execution": {
     "iopub.execute_input": "2024-09-23T21:03:36.414565Z",
     "iopub.status.busy": "2024-09-23T21:03:36.414108Z",
     "iopub.status.idle": "2024-09-23T21:03:36.431182Z",
     "shell.execute_reply": "2024-09-23T21:03:36.429905Z"
    },
    "papermill": {
     "duration": 0.034168,
     "end_time": "2024-09-23T21:03:36.433748",
     "exception": false,
     "start_time": "2024-09-23T21:03:36.399580",
     "status": "completed"
    },
    "tags": []
   },
   "outputs": [
    {
     "name": "stdout",
     "output_type": "stream",
     "text": [
      "              precision    recall  f1-score   support\n",
      "\n",
      "           0       0.31      0.97      0.47        72\n",
      "           1       1.00      0.89      0.94      1331\n",
      "\n",
      "    accuracy                           0.89      1403\n",
      "   macro avg       0.66      0.93      0.71      1403\n",
      "weighted avg       0.96      0.89      0.91      1403\n",
      "\n"
     ]
    }
   ],
   "source": [
    "print(classification_report(y_pred, test_y))"
   ]
  },
  {
   "cell_type": "code",
   "execution_count": 19,
   "id": "cc67fe03",
   "metadata": {
    "execution": {
     "iopub.execute_input": "2024-09-23T21:03:36.464052Z",
     "iopub.status.busy": "2024-09-23T21:03:36.463642Z",
     "iopub.status.idle": "2024-09-23T21:03:36.598748Z",
     "shell.execute_reply": "2024-09-23T21:03:36.597434Z"
    },
    "papermill": {
     "duration": 0.153404,
     "end_time": "2024-09-23T21:03:36.601613",
     "exception": false,
     "start_time": "2024-09-23T21:03:36.448209",
     "status": "completed"
    },
    "tags": []
   },
   "outputs": [
    {
     "data": {
      "text/plain": [
       "0.8538891713268937"
      ]
     },
     "execution_count": 19,
     "metadata": {},
     "output_type": "execute_result"
    }
   ],
   "source": [
    "cross_val_score(log_model, X_test_tf_idf_word, test_y, cv=5).mean()"
   ]
  },
  {
   "cell_type": "code",
   "execution_count": 20,
   "id": "cc965999",
   "metadata": {
    "execution": {
     "iopub.execute_input": "2024-09-23T21:03:36.629990Z",
     "iopub.status.busy": "2024-09-23T21:03:36.629579Z",
     "iopub.status.idle": "2024-09-23T21:03:36.708035Z",
     "shell.execute_reply": "2024-09-23T21:03:36.706919Z"
    },
    "papermill": {
     "duration": 0.095666,
     "end_time": "2024-09-23T21:03:36.710745",
     "exception": false,
     "start_time": "2024-09-23T21:03:36.615079",
     "status": "completed"
    },
    "tags": []
   },
   "outputs": [],
   "source": [
    "random_review = pd.Series(df[\"Review\"].sample(1).values)\n",
    "new_review = CountVectorizer().fit(train_X).transform(random_review)\n",
    "pred = log_model.predict(new_review)"
   ]
  },
  {
   "cell_type": "code",
   "execution_count": 21,
   "id": "c122461b",
   "metadata": {
    "execution": {
     "iopub.execute_input": "2024-09-23T21:03:36.739791Z",
     "iopub.status.busy": "2024-09-23T21:03:36.739381Z",
     "iopub.status.idle": "2024-09-23T21:03:36.745758Z",
     "shell.execute_reply": "2024-09-23T21:03:36.744435Z"
    },
    "papermill": {
     "duration": 0.024325,
     "end_time": "2024-09-23T21:03:36.748773",
     "exception": false,
     "start_time": "2024-09-23T21:03:36.724448",
     "status": "completed"
    },
    "tags": []
   },
   "outputs": [
    {
     "name": "stdout",
     "output_type": "stream",
     "text": [
      "Review: recommend it. Prediction: [1]\n"
     ]
    }
   ],
   "source": [
    "print(f\"Review: {random_review[0]} Prediction: {pred}\")"
   ]
  },
  {
   "cell_type": "code",
   "execution_count": 22,
   "id": "d6cdff84",
   "metadata": {
    "execution": {
     "iopub.execute_input": "2024-09-23T21:03:36.780328Z",
     "iopub.status.busy": "2024-09-23T21:03:36.779924Z",
     "iopub.status.idle": "2024-09-23T21:03:43.975256Z",
     "shell.execute_reply": "2024-09-23T21:03:43.973939Z"
    },
    "papermill": {
     "duration": 7.212738,
     "end_time": "2024-09-23T21:03:43.977775",
     "exception": false,
     "start_time": "2024-09-23T21:03:36.765037",
     "status": "completed"
    },
    "tags": []
   },
   "outputs": [
    {
     "data": {
      "text/plain": [
       "0.8987849517031012"
      ]
     },
     "execution_count": 22,
     "metadata": {},
     "output_type": "execute_result"
    }
   ],
   "source": [
    "rf_model = RandomForestClassifier().fit(X_train_tf_idf_word, train_y)\n",
    "cross_val_score(rf_model,X_test_tf_idf_word, test_y, cv=5, n_jobs=-1).mean()"
   ]
  }
 ],
 "metadata": {
  "kaggle": {
   "accelerator": "none",
   "dataSources": [
    {
     "datasetId": 5734870,
     "sourceId": 9437890,
     "sourceType": "datasetVersion"
    }
   ],
   "dockerImageVersionId": 30761,
   "isGpuEnabled": false,
   "isInternetEnabled": true,
   "language": "python",
   "sourceType": "notebook"
  },
  "kernelspec": {
   "display_name": "Python 3",
   "language": "python",
   "name": "python3"
  },
  "language_info": {
   "codemirror_mode": {
    "name": "ipython",
    "version": 3
   },
   "file_extension": ".py",
   "mimetype": "text/x-python",
   "name": "python",
   "nbconvert_exporter": "python",
   "pygments_lexer": "ipython3",
   "version": "3.10.14"
  },
  "papermill": {
   "default_parameters": {},
   "duration": 78.497129,
   "end_time": "2024-09-23T21:03:46.614505",
   "environment_variables": {},
   "exception": null,
   "input_path": "__notebook__.ipynb",
   "output_path": "__notebook__.ipynb",
   "parameters": {},
   "start_time": "2024-09-23T21:02:28.117376",
   "version": "2.6.0"
  }
 },
 "nbformat": 4,
 "nbformat_minor": 5
}
